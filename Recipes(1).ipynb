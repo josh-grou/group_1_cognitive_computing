{
  "cells": [
    {
      "cell_type": "code",
      "execution_count": 1,
      "metadata": {
        "id": "EC2WgU2SGvKw"
      },
      "outputs": [],
      "source": [
        "import pandas as pd\n",
        "import numpy as np\n",
        "import matplotlib.pyplot as plt\n",
        "import seaborn as sns"
      ]
    },
    {
      "cell_type": "code",
      "execution_count": 2,
      "metadata": {
        "colab": {
          "base_uri": "https://localhost:8080/",
          "height": 660
        },
        "id": "UX-C34ReGyTS",
        "outputId": "09a884ac-760b-43e7-e1f9-58721d453a1d"
      },
      "outputs": [
        {
          "name": "stderr",
          "output_type": "stream",
          "text": [
            "C:\\Users\\joshg\\AppData\\Local\\Temp\\ipykernel_17888\\4141240258.py:1: FutureWarning: The error_bad_lines argument has been deprecated and will be removed in a future version. Use on_bad_lines in the future.\n",
            "\n",
            "\n",
            "  df = pd.read_csv(\"RAW_recipes.csv\", engine='python', encoding='utf-8', error_bad_lines=False)\n"
          ]
        },
        {
          "data": {
            "text/html": [
              "<div>\n",
              "<style scoped>\n",
              "    .dataframe tbody tr th:only-of-type {\n",
              "        vertical-align: middle;\n",
              "    }\n",
              "\n",
              "    .dataframe tbody tr th {\n",
              "        vertical-align: top;\n",
              "    }\n",
              "\n",
              "    .dataframe thead th {\n",
              "        text-align: right;\n",
              "    }\n",
              "</style>\n",
              "<table border=\"1\" class=\"dataframe\">\n",
              "  <thead>\n",
              "    <tr style=\"text-align: right;\">\n",
              "      <th></th>\n",
              "      <th>name</th>\n",
              "      <th>id</th>\n",
              "      <th>minutes</th>\n",
              "      <th>contributor_id</th>\n",
              "      <th>submitted</th>\n",
              "      <th>tags</th>\n",
              "      <th>nutrition</th>\n",
              "      <th>n_steps</th>\n",
              "      <th>steps</th>\n",
              "      <th>description</th>\n",
              "      <th>ingredients</th>\n",
              "      <th>n_ingredients</th>\n",
              "    </tr>\n",
              "  </thead>\n",
              "  <tbody>\n",
              "    <tr>\n",
              "      <th>0</th>\n",
              "      <td>arriba   baked winter squash mexican style</td>\n",
              "      <td>137739</td>\n",
              "      <td>55</td>\n",
              "      <td>47892</td>\n",
              "      <td>2005-09-16</td>\n",
              "      <td>['60-minutes-or-less', 'time-to-make', 'course...</td>\n",
              "      <td>[51.5, 0.0, 13.0, 0.0, 2.0, 0.0, 4.0]</td>\n",
              "      <td>11</td>\n",
              "      <td>['make a choice and proceed with recipe', 'dep...</td>\n",
              "      <td>autumn is my favorite time of year to cook! th...</td>\n",
              "      <td>['winter squash', 'mexican seasoning', 'mixed ...</td>\n",
              "      <td>7</td>\n",
              "    </tr>\n",
              "    <tr>\n",
              "      <th>1</th>\n",
              "      <td>a bit different  breakfast pizza</td>\n",
              "      <td>31490</td>\n",
              "      <td>30</td>\n",
              "      <td>26278</td>\n",
              "      <td>2002-06-17</td>\n",
              "      <td>['30-minutes-or-less', 'time-to-make', 'course...</td>\n",
              "      <td>[173.4, 18.0, 0.0, 17.0, 22.0, 35.0, 1.0]</td>\n",
              "      <td>9</td>\n",
              "      <td>['preheat oven to 425 degrees f', 'press dough...</td>\n",
              "      <td>this recipe calls for the crust to be prebaked...</td>\n",
              "      <td>['prepared pizza crust', 'sausage patty', 'egg...</td>\n",
              "      <td>6</td>\n",
              "    </tr>\n",
              "    <tr>\n",
              "      <th>2</th>\n",
              "      <td>all in the kitchen  chili</td>\n",
              "      <td>112140</td>\n",
              "      <td>130</td>\n",
              "      <td>196586</td>\n",
              "      <td>2005-02-25</td>\n",
              "      <td>['time-to-make', 'course', 'preparation', 'mai...</td>\n",
              "      <td>[269.8, 22.0, 32.0, 48.0, 39.0, 27.0, 5.0]</td>\n",
              "      <td>6</td>\n",
              "      <td>['brown ground beef in large pot', 'add choppe...</td>\n",
              "      <td>this modified version of 'mom's' chili was a h...</td>\n",
              "      <td>['ground beef', 'yellow onions', 'diced tomato...</td>\n",
              "      <td>13</td>\n",
              "    </tr>\n",
              "    <tr>\n",
              "      <th>3</th>\n",
              "      <td>alouette  potatoes</td>\n",
              "      <td>59389</td>\n",
              "      <td>45</td>\n",
              "      <td>68585</td>\n",
              "      <td>2003-04-14</td>\n",
              "      <td>['60-minutes-or-less', 'time-to-make', 'course...</td>\n",
              "      <td>[368.1, 17.0, 10.0, 2.0, 14.0, 8.0, 20.0]</td>\n",
              "      <td>11</td>\n",
              "      <td>['place potatoes in a large pot of lightly sal...</td>\n",
              "      <td>this is a super easy, great tasting, make ahea...</td>\n",
              "      <td>['spreadable cheese with garlic and herbs', 'n...</td>\n",
              "      <td>11</td>\n",
              "    </tr>\n",
              "    <tr>\n",
              "      <th>4</th>\n",
              "      <td>amish  tomato ketchup  for canning</td>\n",
              "      <td>44061</td>\n",
              "      <td>190</td>\n",
              "      <td>41706</td>\n",
              "      <td>2002-10-25</td>\n",
              "      <td>['weeknight', 'time-to-make', 'course', 'main-...</td>\n",
              "      <td>[352.9, 1.0, 337.0, 23.0, 3.0, 0.0, 28.0]</td>\n",
              "      <td>5</td>\n",
              "      <td>['mix all ingredients&amp; boil for 2 1 / 2 hours ...</td>\n",
              "      <td>my dh's amish mother raised him on this recipe...</td>\n",
              "      <td>['tomato juice', 'apple cider vinegar', 'sugar...</td>\n",
              "      <td>8</td>\n",
              "    </tr>\n",
              "  </tbody>\n",
              "</table>\n",
              "</div>"
            ],
            "text/plain": [
              "                                         name      id  minutes  \\\n",
              "0  arriba   baked winter squash mexican style  137739       55   \n",
              "1            a bit different  breakfast pizza   31490       30   \n",
              "2                   all in the kitchen  chili  112140      130   \n",
              "3                          alouette  potatoes   59389       45   \n",
              "4          amish  tomato ketchup  for canning   44061      190   \n",
              "\n",
              "   contributor_id   submitted  \\\n",
              "0           47892  2005-09-16   \n",
              "1           26278  2002-06-17   \n",
              "2          196586  2005-02-25   \n",
              "3           68585  2003-04-14   \n",
              "4           41706  2002-10-25   \n",
              "\n",
              "                                                tags  \\\n",
              "0  ['60-minutes-or-less', 'time-to-make', 'course...   \n",
              "1  ['30-minutes-or-less', 'time-to-make', 'course...   \n",
              "2  ['time-to-make', 'course', 'preparation', 'mai...   \n",
              "3  ['60-minutes-or-less', 'time-to-make', 'course...   \n",
              "4  ['weeknight', 'time-to-make', 'course', 'main-...   \n",
              "\n",
              "                                    nutrition  n_steps  \\\n",
              "0       [51.5, 0.0, 13.0, 0.0, 2.0, 0.0, 4.0]       11   \n",
              "1   [173.4, 18.0, 0.0, 17.0, 22.0, 35.0, 1.0]        9   \n",
              "2  [269.8, 22.0, 32.0, 48.0, 39.0, 27.0, 5.0]        6   \n",
              "3   [368.1, 17.0, 10.0, 2.0, 14.0, 8.0, 20.0]       11   \n",
              "4   [352.9, 1.0, 337.0, 23.0, 3.0, 0.0, 28.0]        5   \n",
              "\n",
              "                                               steps  \\\n",
              "0  ['make a choice and proceed with recipe', 'dep...   \n",
              "1  ['preheat oven to 425 degrees f', 'press dough...   \n",
              "2  ['brown ground beef in large pot', 'add choppe...   \n",
              "3  ['place potatoes in a large pot of lightly sal...   \n",
              "4  ['mix all ingredients& boil for 2 1 / 2 hours ...   \n",
              "\n",
              "                                         description  \\\n",
              "0  autumn is my favorite time of year to cook! th...   \n",
              "1  this recipe calls for the crust to be prebaked...   \n",
              "2  this modified version of 'mom's' chili was a h...   \n",
              "3  this is a super easy, great tasting, make ahea...   \n",
              "4  my dh's amish mother raised him on this recipe...   \n",
              "\n",
              "                                         ingredients  n_ingredients  \n",
              "0  ['winter squash', 'mexican seasoning', 'mixed ...              7  \n",
              "1  ['prepared pizza crust', 'sausage patty', 'egg...              6  \n",
              "2  ['ground beef', 'yellow onions', 'diced tomato...             13  \n",
              "3  ['spreadable cheese with garlic and herbs', 'n...             11  \n",
              "4  ['tomato juice', 'apple cider vinegar', 'sugar...              8  "
            ]
          },
          "execution_count": 2,
          "metadata": {},
          "output_type": "execute_result"
        }
      ],
      "source": [
        "df = pd.read_csv(\"RAW_recipes.csv\", engine='python', encoding='utf-8', error_bad_lines=False)\n",
        "df.head()"
      ]
    },
    {
      "cell_type": "code",
      "execution_count": 3,
      "metadata": {
        "id": "XzlCjXTTjRcK"
      },
      "outputs": [],
      "source": [
        "dfc = df.copy()"
      ]
    },
    {
      "cell_type": "code",
      "execution_count": 4,
      "metadata": {
        "colab": {
          "base_uri": "https://localhost:8080/"
        },
        "id": "q4u_go-zHNCZ",
        "outputId": "1f28b1fa-e603-4d6a-b4b5-b92e7f3ecfc4"
      },
      "outputs": [
        {
          "name": "stdout",
          "output_type": "stream",
          "text": [
            "salt                                 85746\n",
            "butter                               54975\n",
            "sugar                                44535\n",
            "onion                                39065\n",
            "water                                34914\n",
            "                                     ...  \n",
            "fat-free cherry vanilla yogurt           1\n",
            "baby banana puree                        1\n",
            "vegetarian low-sodium baked beans        1\n",
            "ginger peel                              1\n",
            "nepitella                                1\n",
            "Length: 14906, dtype: int64\n"
          ]
        }
      ],
      "source": [
        "all_ingredients = [word for sublist in dfc[\"ingredients\"].str.strip(\"[]\").str.replace(\"'\", \"\").str.split(\", \") for word in sublist]\n",
        "ingredient_counts = pd.Series(all_ingredients).value_counts()\n",
        "print(ingredient_counts)\n",
        "#Salt, butter, sugar, onion, and water are the 5 most common ingredients"
      ]
    },
    {
      "cell_type": "code",
      "execution_count": 5,
      "metadata": {
        "colab": {
          "base_uri": "https://localhost:8080/",
          "height": 545
        },
        "id": "ftvAhGFVj6sS",
        "outputId": "43df9314-d32c-491b-82e8-56f7f2a23e63"
      },
      "outputs": [
        {
          "data": {
            "image/png": "[encoded data removed]",
            "text/plain": [
              "<Figure size 640x480 with 1 Axes>"
            ]
          },
          "metadata": {},
          "output_type": "display_data"
        }
      ],
      "source": [
        "#Bar chart for 10 Most Common Ingredients\n",
        "ingredient_counts.head(10).plot(kind='bar')\n",
        "plt.xlabel('Ingredients')\n",
        "plt.ylabel('Count')\n",
        "plt.title('Top 10 Most Common Tags')\n",
        "plt.show()"
      ]
    },
    {
      "cell_type": "code",
      "execution_count": 6,
      "metadata": {
        "colab": {
          "base_uri": "https://localhost:8080/",
          "height": 499
        },
        "id": "smURA7n-P7In",
        "outputId": "35ee267d-25c1-4505-aa3f-39afae70c4c8"
      },
      "outputs": [
        {
          "name": "stderr",
          "output_type": "stream",
          "text": [
            "C:\\Users\\joshg\\AppData\\Local\\Temp\\ipykernel_17888\\2882161572.py:3: FutureWarning: The default value of numeric_only in DataFrame.corr is deprecated. In a future version, it will default to False. Select only valid columns or specify the value of numeric_only to silence this warning.\n",
            "  corr_matrix = dfc.corr()\n",
            "C:\\Users\\joshg\\AppData\\Local\\Temp\\ipykernel_17888\\2882161572.py:5: FutureWarning: In the future `np.bool` will be defined as the corresponding NumPy scalar.\n",
            "  mask = np.triu(np.ones_like(corr_matrix, dtype = np.bool))\n"
          ]
        },
        {
          "ename": "AttributeError",
          "evalue": "module 'numpy' has no attribute 'bool'.\n`np.bool` was a deprecated alias for the builtin `bool`. To avoid this error in existing code, use `bool` by itself. Doing this will not modify any behavior and is safe. If you specifically wanted the numpy scalar type, use `np.bool_` here.\nThe aliases was originally deprecated in NumPy 1.20; for more details and guidance see the original release note at:\n    https://numpy.org/devdocs/release/1.20.0-notes.html#deprecations",
          "output_type": "error",
          "traceback": [
            "\u001b[1;31m---------------------------------------------------------------------------\u001b[0m",
            "\u001b[1;31mAttributeError\u001b[0m                            Traceback (most recent call last)",
            "\u001b[1;32mc:\\Users\\joshg\\Desktop\\Stevens Notes\\Fall 2023\\Cognitive Computing\\repos\\group_1_cognitive_computing\\Recipes(1).ipynb Cell 6\u001b[0m line \u001b[0;36m5\n\u001b[0;32m      <a href='vscode-notebook-cell:/c%3A/Users/joshg/Desktop/Stevens%20Notes/Fall%202023/Cognitive%20Computing/repos/group_1_cognitive_computing/Recipes%281%29.ipynb#W5sZmlsZQ%3D%3D?line=2'>3</a>\u001b[0m corr_matrix \u001b[39m=\u001b[39m dfc\u001b[39m.\u001b[39mcorr()\n\u001b[0;32m      <a href='vscode-notebook-cell:/c%3A/Users/joshg/Desktop/Stevens%20Notes/Fall%202023/Cognitive%20Computing/repos/group_1_cognitive_computing/Recipes%281%29.ipynb#W5sZmlsZQ%3D%3D?line=3'>4</a>\u001b[0m \u001b[39m#Define the mask to set the values in the upper triangle to true\u001b[39;00m\n\u001b[1;32m----> <a href='vscode-notebook-cell:/c%3A/Users/joshg/Desktop/Stevens%20Notes/Fall%202023/Cognitive%20Computing/repos/group_1_cognitive_computing/Recipes%281%29.ipynb#W5sZmlsZQ%3D%3D?line=4'>5</a>\u001b[0m mask \u001b[39m=\u001b[39m np\u001b[39m.\u001b[39mtriu(np\u001b[39m.\u001b[39mones_like(corr_matrix, dtype \u001b[39m=\u001b[39m np\u001b[39m.\u001b[39;49mbool))\n\u001b[0;32m      <a href='vscode-notebook-cell:/c%3A/Users/joshg/Desktop/Stevens%20Notes/Fall%202023/Cognitive%20Computing/repos/group_1_cognitive_computing/Recipes%281%29.ipynb#W5sZmlsZQ%3D%3D?line=5'>6</a>\u001b[0m heatmap \u001b[39m=\u001b[39m sns\u001b[39m.\u001b[39mheatmap(corr_matrix, mask \u001b[39m=\u001b[39m mask,\n\u001b[0;32m      <a href='vscode-notebook-cell:/c%3A/Users/joshg/Desktop/Stevens%20Notes/Fall%202023/Cognitive%20Computing/repos/group_1_cognitive_computing/Recipes%281%29.ipynb#W5sZmlsZQ%3D%3D?line=6'>7</a>\u001b[0m                       vmin \u001b[39m=\u001b[39m \u001b[39m-\u001b[39m\u001b[39m1\u001b[39m, vmax \u001b[39m=\u001b[39m \u001b[39m1\u001b[39m, annot \u001b[39m=\u001b[39m \u001b[39mTrue\u001b[39;00m, cmap \u001b[39m=\u001b[39m \u001b[39m'\u001b[39m\u001b[39mBrBG\u001b[39m\u001b[39m'\u001b[39m)\n\u001b[0;32m      <a href='vscode-notebook-cell:/c%3A/Users/joshg/Desktop/Stevens%20Notes/Fall%202023/Cognitive%20Computing/repos/group_1_cognitive_computing/Recipes%281%29.ipynb#W5sZmlsZQ%3D%3D?line=7'>8</a>\u001b[0m heatmap\u001b[39m.\u001b[39mset_title(\u001b[39m'\u001b[39m\u001b[39mTriangle Correlation Heatmap\u001b[39m\u001b[39m'\u001b[39m, fontdict \u001b[39m=\u001b[39m {\u001b[39m'\u001b[39m\u001b[39mfontsize\u001b[39m\u001b[39m'\u001b[39m:\u001b[39m18\u001b[39m}, pad \u001b[39m=\u001b[39m \u001b[39m16\u001b[39m);\n",
            "File \u001b[1;32m~\\AppData\\Local\\Packages\\PythonSoftwareFoundation.Python.3.10_qbz5n2kfra8p0\\LocalCache\\local-packages\\Python310\\site-packages\\numpy\\__init__.py:305\u001b[0m, in \u001b[0;36m__getattr__\u001b[1;34m(attr)\u001b[0m\n\u001b[0;32m    300\u001b[0m     warnings\u001b[39m.\u001b[39mwarn(\n\u001b[0;32m    301\u001b[0m         \u001b[39mf\u001b[39m\u001b[39m\"\u001b[39m\u001b[39mIn the future `np.\u001b[39m\u001b[39m{\u001b[39;00mattr\u001b[39m}\u001b[39;00m\u001b[39m` will be defined as the \u001b[39m\u001b[39m\"\u001b[39m\n\u001b[0;32m    302\u001b[0m         \u001b[39m\"\u001b[39m\u001b[39mcorresponding NumPy scalar.\u001b[39m\u001b[39m\"\u001b[39m, \u001b[39mFutureWarning\u001b[39;00m, stacklevel\u001b[39m=\u001b[39m\u001b[39m2\u001b[39m)\n\u001b[0;32m    304\u001b[0m \u001b[39mif\u001b[39;00m attr \u001b[39min\u001b[39;00m __former_attrs__:\n\u001b[1;32m--> 305\u001b[0m     \u001b[39mraise\u001b[39;00m \u001b[39mAttributeError\u001b[39;00m(__former_attrs__[attr])\n\u001b[0;32m    307\u001b[0m \u001b[39m# Importing Tester requires importing all of UnitTest which is not a\u001b[39;00m\n\u001b[0;32m    308\u001b[0m \u001b[39m# cheap import Since it is mainly used in test suits, we lazy import it\u001b[39;00m\n\u001b[0;32m    309\u001b[0m \u001b[39m# here to save on the order of 10 ms of import time for most users\u001b[39;00m\n\u001b[0;32m    310\u001b[0m \u001b[39m#\u001b[39;00m\n\u001b[0;32m    311\u001b[0m \u001b[39m# The previous way Tester was imported also had a side effect of adding\u001b[39;00m\n\u001b[0;32m    312\u001b[0m \u001b[39m# the full `numpy.testing` namespace\u001b[39;00m\n\u001b[0;32m    313\u001b[0m \u001b[39mif\u001b[39;00m attr \u001b[39m==\u001b[39m \u001b[39m'\u001b[39m\u001b[39mtesting\u001b[39m\u001b[39m'\u001b[39m:\n",
            "\u001b[1;31mAttributeError\u001b[0m: module 'numpy' has no attribute 'bool'.\n`np.bool` was a deprecated alias for the builtin `bool`. To avoid this error in existing code, use `bool` by itself. Doing this will not modify any behavior and is safe. If you specifically wanted the numpy scalar type, use `np.bool_` here.\nThe aliases was originally deprecated in NumPy 1.20; for more details and guidance see the original release note at:\n    https://numpy.org/devdocs/release/1.20.0-notes.html#deprecations"
          ]
        },
        {
          "data": {
            "text/plain": [
              "<Figure size 3200x1200 with 0 Axes>"
            ]
          },
          "metadata": {},
          "output_type": "display_data"
        }
      ],
      "source": [
        "#Correlation matrix\n",
        "plt.figure(figsize = (32,12))\n",
        "corr_matrix = dfc.corr()\n",
        "#Define the mask to set the values in the upper triangle to true\n",
        "mask = np.triu(np.ones_like(corr_matrix, dtype = np.bool))\n",
        "heatmap = sns.heatmap(corr_matrix, mask = mask,\n",
        "                      vmin = -1, vmax = 1, annot = True, cmap = 'BrBG')\n",
        "heatmap.set_title('Triangle Correlation Heatmap', fontdict = {'fontsize':18}, pad = 16);\n",
        "\n",
        "#Suprisingly not much of a realtionship between #n_ingredients and minutes. Also surprising there is no relation between n_steps and minutes."
      ]
    },
    {
      "cell_type": "code",
      "execution_count": 7,
      "metadata": {
        "colab": {
          "base_uri": "https://localhost:8080/"
        },
        "id": "QfpzmG40bMC2",
        "outputId": "f1a7057e-79e5-4ac5-f198-b5ed948b95c2"
      },
      "outputs": [
        {
          "name": "stdout",
          "output_type": "stream",
          "text": [
            "0    ['60-minutes-or-less', 'time-to-make', 'course...\n",
            "1    ['30-minutes-or-less', 'time-to-make', 'course...\n",
            "2    ['time-to-make', 'course', 'preparation', 'mai...\n",
            "3    ['60-minutes-or-less', 'time-to-make', 'course...\n",
            "4    ['weeknight', 'time-to-make', 'course', 'main-...\n",
            "Name: tags, dtype: object\n"
          ]
        }
      ],
      "source": [
        "print(dfc['tags'].head())"
      ]
    },
    {
      "cell_type": "code",
      "execution_count": 8,
      "metadata": {
        "id": "K2LVE5dfcs77"
      },
      "outputs": [],
      "source": [
        "import ast\n",
        "\n",
        "#Converting string reps of lists to actual lists\n",
        "dfc['tags'] = dfc['tags'].apply(ast.literal_eval)"
      ]
    },
    {
      "cell_type": "code",
      "execution_count": 9,
      "metadata": {
        "id": "yahBSOTKdQQB"
      },
      "outputs": [],
      "source": [
        "#Creating a row for each entry within a tag\n",
        "ex_dfc = dfc.explode('tags')"
      ]
    },
    {
      "cell_type": "code",
      "execution_count": 10,
      "metadata": {
        "id": "Y-KsLnvydXvA"
      },
      "outputs": [],
      "source": [
        "tag_counts = ex_dfc['tags'].value_counts()"
      ]
    },
    {
      "cell_type": "code",
      "execution_count": 11,
      "metadata": {
        "colab": {
          "base_uri": "https://localhost:8080/"
        },
        "id": "du87oCxwdjH9",
        "outputId": "e77baa0a-5ac6-4057-ad2b-39fc1d702e2d"
      },
      "outputs": [
        {
          "name": "stdout",
          "output_type": "stream",
          "text": [
            "preparation         230546\n",
            "time-to-make        225326\n",
            "course              218148\n",
            "main-ingredient     170446\n",
            "dietary             165091\n",
            "easy                126062\n",
            "occasion            114145\n",
            "cuisine              91165\n",
            "low-in-something     85776\n",
            "main-dish            71786\n",
            "Name: tags, dtype: int64\n"
          ]
        }
      ],
      "source": [
        "print(tag_counts.head(10))"
      ]
    },
    {
      "cell_type": "code",
      "execution_count": 12,
      "metadata": {
        "colab": {
          "base_uri": "https://localhost:8080/",
          "height": 577
        },
        "id": "lWO2y0iNdxVX",
        "outputId": "f6b5aee8-bf2b-42c6-ba33-e3736ce760bf"
      },
      "outputs": [
        {
          "data": {
            "image/png": "[encoded data removed]",
            "text/plain": [
              "<Figure size 640x480 with 1 Axes>"
            ]
          },
          "metadata": {},
          "output_type": "display_data"
        }
      ],
      "source": [
        "#Bar chart for 10 Most Common Tags\n",
        "tag_counts.head(10).plot(kind='bar')\n",
        "plt.xlabel('Tags')\n",
        "plt.ylabel('Count')\n",
        "plt.title('Top 10 Most Common Tags')\n",
        "plt.show()"
      ]
    },
    {
      "cell_type": "code",
      "execution_count": null,
      "metadata": {
        "colab": {
          "base_uri": "https://localhost:8080/",
          "height": 320
        },
        "id": "ZFTXLE0hkoKE",
        "outputId": "88d9389c-70a8-488e-ed0a-012274ccfa6e"
      },
      "outputs": [
        {
          "data": {
            "text/html": [
              "\n",
              "  <div id=\"df-b3f60a52-8b52-4069-9b52-6f7c5cefc3be\" class=\"colab-df-container\">\n",
              "    <div>\n",
              "<style scoped>\n",
              "    .dataframe tbody tr th:only-of-type {\n",
              "        vertical-align: middle;\n",
              "    }\n",
              "\n",
              "    .dataframe tbody tr th {\n",
              "        vertical-align: top;\n",
              "    }\n",
              "\n",
              "    .dataframe thead th {\n",
              "        text-align: right;\n",
              "    }\n",
              "</style>\n",
              "<table border=\"1\" class=\"dataframe\">\n",
              "  <thead>\n",
              "    <tr style=\"text-align: right;\">\n",
              "      <th></th>\n",
              "      <th>id</th>\n",
              "      <th>minutes</th>\n",
              "      <th>contributor_id</th>\n",
              "      <th>n_steps</th>\n",
              "      <th>n_ingredients</th>\n",
              "      <th>calories</th>\n",
              "      <th>total_fat</th>\n",
              "      <th>sugar</th>\n",
              "      <th>sodium</th>\n",
              "      <th>protein</th>\n",
              "      <th>saturate_fat</th>\n",
              "      <th>carbs</th>\n",
              "    </tr>\n",
              "  </thead>\n",
              "  <tbody>\n",
              "    <tr>\n",
              "      <th>count</th>\n",
              "      <td>231633.000000</td>\n",
              "      <td>231633.000000</td>\n",
              "      <td>2.316330e+05</td>\n",
              "      <td>231633.000000</td>\n",
              "      <td>231633.000000</td>\n",
              "      <td>231633.000000</td>\n",
              "      <td>231633.000000</td>\n",
              "      <td>231633.000000</td>\n",
              "      <td>231633.000000</td>\n",
              "      <td>231633.000000</td>\n",
              "      <td>231633.000000</td>\n",
              "      <td>231633.000000</td>\n",
              "    </tr>\n",
              "    <tr>\n",
              "      <th>mean</th>\n",
              "      <td>222013.662259</td>\n",
              "      <td>123.108689</td>\n",
              "      <td>5.534972e+06</td>\n",
              "      <td>9.765526</td>\n",
              "      <td>9.051219</td>\n",
              "      <td>471.633527</td>\n",
              "      <td>36.001213</td>\n",
              "      <td>82.731666</td>\n",
              "      <td>30.141275</td>\n",
              "      <td>34.659776</td>\n",
              "      <td>45.541913</td>\n",
              "      <td>15.404739</td>\n",
              "    </tr>\n",
              "    <tr>\n",
              "      <th>std</th>\n",
              "      <td>141207.037471</td>\n",
              "      <td>1977.776431</td>\n",
              "      <td>9.979227e+07</td>\n",
              "      <td>5.995161</td>\n",
              "      <td>3.734784</td>\n",
              "      <td>747.346403</td>\n",
              "      <td>69.113003</td>\n",
              "      <td>269.033244</td>\n",
              "      <td>131.934663</td>\n",
              "      <td>57.844032</td>\n",
              "      <td>95.847328</td>\n",
              "      <td>32.781275</td>\n",
              "    </tr>\n",
              "    <tr>\n",
              "      <th>min</th>\n",
              "      <td>38.000000</td>\n",
              "      <td>0.000000</td>\n",
              "      <td>2.700000e+01</td>\n",
              "      <td>0.000000</td>\n",
              "      <td>1.000000</td>\n",
              "      <td>0.000000</td>\n",
              "      <td>0.000000</td>\n",
              "      <td>0.000000</td>\n",
              "      <td>0.000000</td>\n",
              "      <td>0.000000</td>\n",
              "      <td>0.000000</td>\n",
              "      <td>0.000000</td>\n",
              "    </tr>\n",
              "    <tr>\n",
              "      <th>25%</th>\n",
              "      <td>99943.000000</td>\n",
              "      <td>20.000000</td>\n",
              "      <td>5.690500e+04</td>\n",
              "      <td>6.000000</td>\n",
              "      <td>6.000000</td>\n",
              "      <td>174.300000</td>\n",
              "      <td>8.000000</td>\n",
              "      <td>9.000000</td>\n",
              "      <td>5.000000</td>\n",
              "      <td>7.000000</td>\n",
              "      <td>7.000000</td>\n",
              "      <td>4.000000</td>\n",
              "    </tr>\n",
              "    <tr>\n",
              "      <th>50%</th>\n",
              "      <td>207248.000000</td>\n",
              "      <td>40.000000</td>\n",
              "      <td>1.736140e+05</td>\n",
              "      <td>9.000000</td>\n",
              "      <td>9.000000</td>\n",
              "      <td>313.400000</td>\n",
              "      <td>20.000000</td>\n",
              "      <td>25.000000</td>\n",
              "      <td>14.000000</td>\n",
              "      <td>18.000000</td>\n",
              "      <td>23.000000</td>\n",
              "      <td>9.000000</td>\n",
              "    </tr>\n",
              "    <tr>\n",
              "      <th>75%</th>\n",
              "      <td>333816.000000</td>\n",
              "      <td>65.000000</td>\n",
              "      <td>3.982750e+05</td>\n",
              "      <td>12.000000</td>\n",
              "      <td>11.000000</td>\n",
              "      <td>519.700000</td>\n",
              "      <td>41.000000</td>\n",
              "      <td>68.000000</td>\n",
              "      <td>33.000000</td>\n",
              "      <td>51.000000</td>\n",
              "      <td>52.000000</td>\n",
              "      <td>16.000000</td>\n",
              "    </tr>\n",
              "    <tr>\n",
              "      <th>max</th>\n",
              "      <td>537716.000000</td>\n",
              "      <td>288000.000000</td>\n",
              "      <td>2.002290e+09</td>\n",
              "      <td>145.000000</td>\n",
              "      <td>43.000000</td>\n",
              "      <td>45609.000000</td>\n",
              "      <td>4331.000000</td>\n",
              "      <td>30260.000000</td>\n",
              "      <td>29338.000000</td>\n",
              "      <td>6552.000000</td>\n",
              "      <td>6875.000000</td>\n",
              "      <td>3007.000000</td>\n",
              "    </tr>\n",
              "  </tbody>\n",
              "</table>\n",
              "</div>\n",
              "    <div class=\"colab-df-buttons\">\n",
              "\n",
              "  <div class=\"colab-df-container\">\n",
              "    <button class=\"colab-df-convert\" onclick=\"convertToInteractive('df-b3f60a52-8b52-4069-9b52-6f7c5cefc3be')\"\n",
              "            title=\"Convert this dataframe to an interactive table.\"\n",
              "            style=\"display:none;\">\n",
              "\n",
              "  <svg xmlns=\"http://www.w3.org/2000/svg\" height=\"24px\" viewBox=\"0 -960 960 960\">\n",
              "    <path d=\"M120-120v-720h720v720H120Zm60-500h600v-160H180v160Zm220 220h160v-160H400v160Zm0 220h160v-160H400v160ZM180-400h160v-160H180v160Zm440 0h160v-160H620v160ZM180-180h160v-160H180v160Zm440 0h160v-160H620v160Z\"/>\n",
              "  </svg>\n",
              "    </button>\n",
              "\n",
              "  <style>\n",
              "    .colab-df-container {\n",
              "      display:flex;\n",
              "      gap: 12px;\n",
              "    }\n",
              "\n",
              "    .colab-df-convert {\n",
              "      background-color: #E8F0FE;\n",
              "      border: none;\n",
              "      border-radius: 50%;\n",
              "      cursor: pointer;\n",
              "      display: none;\n",
              "      fill: #1967D2;\n",
              "      height: 32px;\n",
              "      padding: 0 0 0 0;\n",
              "      width: 32px;\n",
              "    }\n",
              "\n",
              "    .colab-df-convert:hover {\n",
              "      background-color: #E2EBFA;\n",
              "      box-shadow: 0px 1px 2px rgba(60, 64, 67, 0.3), 0px 1px 3px 1px rgba(60, 64, 67, 0.15);\n",
              "      fill: #174EA6;\n",
              "    }\n",
              "\n",
              "    .colab-df-buttons div {\n",
              "      margin-bottom: 4px;\n",
              "    }\n",
              "\n",
              "    [theme=dark] .colab-df-convert {\n",
              "      background-color: #3B4455;\n",
              "      fill: #D2E3FC;\n",
              "    }\n",
              "\n",
              "    [theme=dark] .colab-df-convert:hover {\n",
              "      background-color: #434B5C;\n",
              "      box-shadow: 0px 1px 3px 1px rgba(0, 0, 0, 0.15);\n",
              "      filter: drop-shadow(0px 1px 2px rgba(0, 0, 0, 0.3));\n",
              "      fill: #FFFFFF;\n",
              "    }\n",
              "  </style>\n",
              "\n",
              "    <script>\n",
              "      const buttonEl =\n",
              "        document.querySelector('#df-b3f60a52-8b52-4069-9b52-6f7c5cefc3be button.colab-df-convert');\n",
              "      buttonEl.style.display =\n",
              "        google.colab.kernel.accessAllowed ? 'block' : 'none';\n",
              "\n",
              "      async function convertToInteractive(key) {\n",
              "        const element = document.querySelector('#df-b3f60a52-8b52-4069-9b52-6f7c5cefc3be');\n",
              "        const dataTable =\n",
              "          await google.colab.kernel.invokeFunction('convertToInteractive',\n",
              "                                                    [key], {});\n",
              "        if (!dataTable) return;\n",
              "\n",
              "        const docLinkHtml = 'Like what you see? Visit the ' +\n",
              "          '<a target=\"_blank\" href=https://colab.research.google.com/notebooks/data_table.ipynb>data table notebook</a>'\n",
              "          + ' to learn more about interactive tables.';\n",
              "        element.innerHTML = '';\n",
              "        dataTable['output_type'] = 'display_data';\n",
              "        await google.colab.output.renderOutput(dataTable, element);\n",
              "        const docLink = document.createElement('div');\n",
              "        docLink.innerHTML = docLinkHtml;\n",
              "        element.appendChild(docLink);\n",
              "      }\n",
              "    </script>\n",
              "  </div>\n",
              "\n",
              "\n",
              "<div id=\"df-048ceb1d-269c-49bd-84ca-3f32093e2c80\">\n",
              "  <button class=\"colab-df-quickchart\" onclick=\"quickchart('df-048ceb1d-269c-49bd-84ca-3f32093e2c80')\"\n",
              "            title=\"Suggest charts.\"\n",
              "            style=\"display:none;\">\n",
              "\n",
              "<svg xmlns=\"http://www.w3.org/2000/svg\" height=\"24px\"viewBox=\"0 0 24 24\"\n",
              "     width=\"24px\">\n",
              "    <g>\n",
              "        <path d=\"M19 3H5c-1.1 0-2 .9-2 2v14c0 1.1.9 2 2 2h14c1.1 0 2-.9 2-2V5c0-1.1-.9-2-2-2zM9 17H7v-7h2v7zm4 0h-2V7h2v10zm4 0h-2v-4h2v4z\"/>\n",
              "    </g>\n",
              "</svg>\n",
              "  </button>\n",
              "\n",
              "<style>\n",
              "  .colab-df-quickchart {\n",
              "      --bg-color: #E8F0FE;\n",
              "      --fill-color: #1967D2;\n",
              "      --hover-bg-color: #E2EBFA;\n",
              "      --hover-fill-color: #174EA6;\n",
              "      --disabled-fill-color: #AAA;\n",
              "      --disabled-bg-color: #DDD;\n",
              "  }\n",
              "\n",
              "  [theme=dark] .colab-df-quickchart {\n",
              "      --bg-color: #3B4455;\n",
              "      --fill-color: #D2E3FC;\n",
              "      --hover-bg-color: #434B5C;\n",
              "      --hover-fill-color: #FFFFFF;\n",
              "      --disabled-bg-color: #3B4455;\n",
              "      --disabled-fill-color: #666;\n",
              "  }\n",
              "\n",
              "  .colab-df-quickchart {\n",
              "    background-color: var(--bg-color);\n",
              "    border: none;\n",
              "    border-radius: 50%;\n",
              "    cursor: pointer;\n",
              "    display: none;\n",
              "    fill: var(--fill-color);\n",
              "    height: 32px;\n",
              "    padding: 0;\n",
              "    width: 32px;\n",
              "  }\n",
              "\n",
              "  .colab-df-quickchart:hover {\n",
              "    background-color: var(--hover-bg-color);\n",
              "    box-shadow: 0 1px 2px rgba(60, 64, 67, 0.3), 0 1px 3px 1px rgba(60, 64, 67, 0.15);\n",
              "    fill: var(--button-hover-fill-color);\n",
              "  }\n",
              "\n",
              "  .colab-df-quickchart-complete:disabled,\n",
              "  .colab-df-quickchart-complete:disabled:hover {\n",
              "    background-color: var(--disabled-bg-color);\n",
              "    fill: var(--disabled-fill-color);\n",
              "    box-shadow: none;\n",
              "  }\n",
              "\n",
              "  .colab-df-spinner {\n",
              "    border: 2px solid var(--fill-color);\n",
              "    border-color: transparent;\n",
              "    border-bottom-color: var(--fill-color);\n",
              "    animation:\n",
              "      spin 1s steps(1) infinite;\n",
              "  }\n",
              "\n",
              "  @keyframes spin {\n",
              "    0% {\n",
              "      border-color: transparent;\n",
              "      border-bottom-color: var(--fill-color);\n",
              "      border-left-color: var(--fill-color);\n",
              "    }\n",
              "    20% {\n",
              "      border-color: transparent;\n",
              "      border-left-color: var(--fill-color);\n",
              "      border-top-color: var(--fill-color);\n",
              "    }\n",
              "    30% {\n",
              "      border-color: transparent;\n",
              "      border-left-color: var(--fill-color);\n",
              "      border-top-color: var(--fill-color);\n",
              "      border-right-color: var(--fill-color);\n",
              "    }\n",
              "    40% {\n",
              "      border-color: transparent;\n",
              "      border-right-color: var(--fill-color);\n",
              "      border-top-color: var(--fill-color);\n",
              "    }\n",
              "    60% {\n",
              "      border-color: transparent;\n",
              "      border-right-color: var(--fill-color);\n",
              "    }\n",
              "    80% {\n",
              "      border-color: transparent;\n",
              "      border-right-color: var(--fill-color);\n",
              "      border-bottom-color: var(--fill-color);\n",
              "    }\n",
              "    90% {\n",
              "      border-color: transparent;\n",
              "      border-bottom-color: var(--fill-color);\n",
              "    }\n",
              "  }\n",
              "</style>\n",
              "\n",
              "  <script>\n",
              "    async function quickchart(key) {\n",
              "      const quickchartButtonEl =\n",
              "        document.querySelector('#' + key + ' button');\n",
              "      quickchartButtonEl.disabled = true;  // To prevent multiple clicks.\n",
              "      quickchartButtonEl.classList.add('colab-df-spinner');\n",
              "      try {\n",
              "        const charts = await google.colab.kernel.invokeFunction(\n",
              "            'suggestCharts', [key], {});\n",
              "      } catch (error) {\n",
              "        console.error('Error during call to suggestCharts:', error);\n",
              "      }\n",
              "      quickchartButtonEl.classList.remove('colab-df-spinner');\n",
              "      quickchartButtonEl.classList.add('colab-df-quickchart-complete');\n",
              "    }\n",
              "    (() => {\n",
              "      let quickchartButtonEl =\n",
              "        document.querySelector('#df-048ceb1d-269c-49bd-84ca-3f32093e2c80 button');\n",
              "      quickchartButtonEl.style.display =\n",
              "        google.colab.kernel.accessAllowed ? 'block' : 'none';\n",
              "    })();\n",
              "  </script>\n",
              "</div>\n",
              "    </div>\n",
              "  </div>\n"
            ],
            "text/plain": [
              "                  id        minutes  contributor_id        n_steps  \\\n",
              "count  231633.000000  231633.000000    2.316330e+05  231633.000000   \n",
              "mean   222013.662259     123.108689    5.534972e+06       9.765526   \n",
              "std    141207.037471    1977.776431    9.979227e+07       5.995161   \n",
              "min        38.000000       0.000000    2.700000e+01       0.000000   \n",
              "25%     99943.000000      20.000000    5.690500e+04       6.000000   \n",
              "50%    207248.000000      40.000000    1.736140e+05       9.000000   \n",
              "75%    333816.000000      65.000000    3.982750e+05      12.000000   \n",
              "max    537716.000000  288000.000000    2.002290e+09     145.000000   \n",
              "\n",
              "       n_ingredients       calories      total_fat          sugar  \\\n",
              "count  231633.000000  231633.000000  231633.000000  231633.000000   \n",
              "mean        9.051219     471.633527      36.001213      82.731666   \n",
              "std         3.734784     747.346403      69.113003     269.033244   \n",
              "min         1.000000       0.000000       0.000000       0.000000   \n",
              "25%         6.000000     174.300000       8.000000       9.000000   \n",
              "50%         9.000000     313.400000      20.000000      25.000000   \n",
              "75%        11.000000     519.700000      41.000000      68.000000   \n",
              "max        43.000000   45609.000000    4331.000000   30260.000000   \n",
              "\n",
              "              sodium        protein   saturate_fat          carbs  \n",
              "count  231633.000000  231633.000000  231633.000000  231633.000000  \n",
              "mean       30.141275      34.659776      45.541913      15.404739  \n",
              "std       131.934663      57.844032      95.847328      32.781275  \n",
              "min         0.000000       0.000000       0.000000       0.000000  \n",
              "25%         5.000000       7.000000       7.000000       4.000000  \n",
              "50%        14.000000      18.000000      23.000000       9.000000  \n",
              "75%        33.000000      51.000000      52.000000      16.000000  \n",
              "max     29338.000000    6552.000000    6875.000000    3007.000000  "
            ]
          },
          "execution_count": 54,
          "metadata": {},
          "output_type": "execute_result"
        }
      ],
      "source": [
        "#Just some general stats\n",
        "dfc.describe()"
      ]
    },
    {
      "cell_type": "code",
      "execution_count": 17,
      "metadata": {
        "id": "9CVqUDBp0w7g"
      },
      "outputs": [
        {
          "data": {
            "image/png": "[encoded data removed]",
            "text/plain": [
              "<Figure size 640x480 with 1 Axes>"
            ]
          },
          "metadata": {},
          "output_type": "display_data"
        }
      ],
      "source": [
        "plt.hist(dfc[\"n_steps\"],bins = 30)\n",
        "plt.xlabel(\"Number of Steps\")\n",
        "plt.ylabel(\"Count\")\n",
        "plt.title(\"Histogram of Number of Steps\")\n",
        "plt.show()"
      ]
    },
    {
      "cell_type": "code",
      "execution_count": 19,
      "metadata": {},
      "outputs": [
        {
          "data": {
            "image/png": "[encoded data removed]",
            "text/plain": [
              "<Figure size 640x480 with 1 Axes>"
            ]
          },
          "metadata": {},
          "output_type": "display_data"
        }
      ],
      "source": [
        "plt.hist(dfc[\"n_ingredients\"],bins = 20)\n",
        "plt.xlabel(\"Number of Ingredients\")\n",
        "plt.ylabel(\"Count\")\n",
        "plt.title(\"Histogram of Number of Ingredients\")\n",
        "plt.show()"
      ]
    },
    {
      "cell_type": "code",
      "execution_count": null,
      "metadata": {
        "id": "IlqpkubZkqUE"
      },
      "outputs": [],
      "source": [
        "#Seperate the nutrition info into different columns\n",
        "nutrition_dfc = pd.DataFrame(dfc['nutrition'].tolist(), columns=['calories', 'total_fat', 'sugar', 'sodium', 'protein', 'saturate_fat', 'carbs'])\n",
        "\n",
        "dfc = pd.concat([dfc, nutrition_dfc], axis=1)"
      ]
    },
    {
      "cell_type": "code",
      "execution_count": null,
      "metadata": {
        "colab": {
          "base_uri": "https://localhost:8080/"
        },
        "id": "efhLrXWKy6Ia",
        "outputId": "6ac30807-ddbe-429b-9a91-da9ad402a09b"
      },
      "outputs": [
        {
          "name": "stdout",
          "output_type": "stream",
          "text": [
            "                                         name      id  minutes  \\\n",
            "0  arriba   baked winter squash mexican style  137739       55   \n",
            "1            a bit different  breakfast pizza   31490       30   \n",
            "2                   all in the kitchen  chili  112140      130   \n",
            "3                          alouette  potatoes   59389       45   \n",
            "4          amish  tomato ketchup  for canning   44061      190   \n",
            "\n",
            "   contributor_id   submitted  \\\n",
            "0           47892  2005-09-16   \n",
            "1           26278  2002-06-17   \n",
            "2          196586  2005-02-25   \n",
            "3           68585  2003-04-14   \n",
            "4           41706  2002-10-25   \n",
            "\n",
            "                                                tags  \\\n",
            "0  [60-minutes-or-less, time-to-make, course, mai...   \n",
            "1  [30-minutes-or-less, time-to-make, course, mai...   \n",
            "2  [time-to-make, course, preparation, main-dish,...   \n",
            "3  [60-minutes-or-less, time-to-make, course, mai...   \n",
            "4  [weeknight, time-to-make, course, main-ingredi...   \n",
            "\n",
            "                                    nutrition  n_steps  \\\n",
            "0       [51.5, 0.0, 13.0, 0.0, 2.0, 0.0, 4.0]       11   \n",
            "1   [173.4, 18.0, 0.0, 17.0, 22.0, 35.0, 1.0]        9   \n",
            "2  [269.8, 22.0, 32.0, 48.0, 39.0, 27.0, 5.0]        6   \n",
            "3   [368.1, 17.0, 10.0, 2.0, 14.0, 8.0, 20.0]       11   \n",
            "4   [352.9, 1.0, 337.0, 23.0, 3.0, 0.0, 28.0]        5   \n",
            "\n",
            "                                               steps  \\\n",
            "0  ['make a choice and proceed with recipe', 'dep...   \n",
            "1  ['preheat oven to 425 degrees f', 'press dough...   \n",
            "2  ['brown ground beef in large pot', 'add choppe...   \n",
            "3  ['place potatoes in a large pot of lightly sal...   \n",
            "4  ['mix all ingredients& boil for 2 1 / 2 hours ...   \n",
            "\n",
            "                                         description  \\\n",
            "0  autumn is my favorite time of year to cook! th...   \n",
            "1  this recipe calls for the crust to be prebaked...   \n",
            "2  this modified version of 'mom's' chili was a h...   \n",
            "3  this is a super easy, great tasting, make ahea...   \n",
            "4  my dh's amish mother raised him on this recipe...   \n",
            "\n",
            "                                         ingredients  n_ingredients  calories  \\\n",
            "0  ['winter squash', 'mexican seasoning', 'mixed ...              7      51.5   \n",
            "1  ['prepared pizza crust', 'sausage patty', 'egg...              6     173.4   \n",
            "2  ['ground beef', 'yellow onions', 'diced tomato...             13     269.8   \n",
            "3  ['spreadable cheese with garlic and herbs', 'n...             11     368.1   \n",
            "4  ['tomato juice', 'apple cider vinegar', 'sugar...              8     352.9   \n",
            "\n",
            "   total_fat  sugar  sodium  protein  saturate_fat  carbs  \n",
            "0        0.0   13.0     0.0      2.0           0.0    4.0  \n",
            "1       18.0    0.0    17.0     22.0          35.0    1.0  \n",
            "2       22.0   32.0    48.0     39.0          27.0    5.0  \n",
            "3       17.0   10.0     2.0     14.0           8.0   20.0  \n",
            "4        1.0  337.0    23.0      3.0           0.0   28.0  \n"
          ]
        }
      ],
      "source": []
    },
    {
      "cell_type": "code",
      "execution_count": null,
      "metadata": {
        "colab": {
          "base_uri": "https://localhost:8080/"
        },
        "id": "1cUAkqrA-uNS",
        "outputId": "330e9356-15c3-43a1-dd2b-8e3c54d96b4b"
      },
      "outputs": [
        {
          "name": "stdout",
          "output_type": "stream",
          "text": [
            "                                             name      id  minutes  \\\n",
            "209453                        tennessee moonshine  193435       20   \n",
            "70467                        deep fried prime rib  227470      100   \n",
            "165504                     powdered hot cocoa mix  392286       10   \n",
            "137181                      mmmmmmmmilky way cake   82848       60   \n",
            "34023                     caledonian wedding cake   18330      630   \n",
            "...                                           ...     ...      ...   \n",
            "224685                             washer cleaner  184171        5   \n",
            "116592  kasha  buckwheat groats  breakfast cereal  268976       10   \n",
            "204558       super s peanut butter chocolate soda  312023        5   \n",
            "202992                          sumac lime crisps  217131       16   \n",
            "111737    irish  matter of fact peas   mushy peas   21182      500   \n",
            "\n",
            "        contributor_id   submitted  \\\n",
            "209453          374913  2006-11-01   \n",
            "70467           485396  2007-05-11   \n",
            "165504          180317  2009-09-28   \n",
            "137181            4439  2004-02-02   \n",
            "34023           123897  2002-01-28   \n",
            "...                ...         ...   \n",
            "224685           66448  2006-08-31   \n",
            "116592          345569  2007-11-30   \n",
            "204558          537937  2008-07-04   \n",
            "202992           94087  2007-03-16   \n",
            "111737            4470  2002-03-02   \n",
            "\n",
            "                                                     tags  \\\n",
            "209453  [30-minutes-or-less, time-to-make, course, pre...   \n",
            "70467   [time-to-make, course, main-ingredient, prepar...   \n",
            "165504  [15-minutes-or-less, time-to-make, course, pre...   \n",
            "137181  [60-minutes-or-less, time-to-make, course, pre...   \n",
            "34023   [weeknight, time-to-make, course, main-ingredi...   \n",
            "...                                                   ...   \n",
            "224685  [15-minutes-or-less, time-to-make, preparation...   \n",
            "116592  [15-minutes-or-less, time-to-make, course, mai...   \n",
            "204558  [15-minutes-or-less, time-to-make, course, pre...   \n",
            "202992  [30-minutes-or-less, time-to-make, course, cui...   \n",
            "111737  [weeknight, time-to-make, course, main-ingredi...   \n",
            "\n",
            "                                                nutrition  n_steps  \\\n",
            "209453  [434360.2, 1293.0, 362729.0, 1324.0, 3961.0, 5...        3   \n",
            "70467   [101614.7, 17183.0, 0.0, 230.0, 1271.0, 10395....       12   \n",
            "165504  [45609.0, 3379.0, 16901.0, 1478.0, 4356.0, 687...        4   \n",
            "137181  [44239.8, 2036.0, 17306.0, 2705.0, 936.0, 1441...       14   \n",
            "34023   [43924.6, 2556.0, 18943.0, 841.0, 1103.0, 4941...        3   \n",
            "...                                                   ...      ...   \n",
            "224685                [0.0, 0.0, 0.0, 4.0, 0.0, 0.0, 0.0]       10   \n",
            "116592                [0.0, 0.0, 0.0, 6.0, 0.0, 0.0, 0.0]        4   \n",
            "204558                [0.0, 0.0, 0.0, 1.0, 0.0, 0.0, 0.0]        6   \n",
            "202992               [0.0, 0.0, 0.0, 48.0, 0.0, 0.0, 0.0]        3   \n",
            "111737                [0.0, 0.0, 0.0, 6.0, 0.0, 0.0, 0.0]        3   \n",
            "\n",
            "                                                    steps  \\\n",
            "209453  ['to boiled cornmeal add yeast and lots of sug...   \n",
            "70467   ['the night before you plan to serve your prim...   \n",
            "165504  ['mix all ingredients together in an airtight ...   \n",
            "137181  ['preheat oven to 350 degrees fahrenheit', 'gr...   \n",
            "34023   ['bake 10 hours in a slow oven', 'one-quarter ...   \n",
            "...                                                   ...   \n",
            "224685  ['set the machine on the highest water level ,...   \n",
            "116592  ['stir 2 t kasha and a dash of salt into 2 / 3...   \n",
            "204558  ['scoop icecream into a tall glass', 'add syru...   \n",
            "202992  ['preheat oven to 200 deg c', 'place bread ont...   \n",
            "111737  ['put the peas in a bowl , add baking soda , p...   \n",
            "\n",
            "                                              description  \\\n",
            "209453               common moonshine recipe in tennessee   \n",
            "70467   this makes the juicest and best flavored prime...   \n",
            "165504  our family grew up on this cocoa mix.  we neve...   \n",
            "137181  this is not a true chocolate cake, but really ...   \n",
            "34023   found in old british cookbook, don't expect an...   \n",
            "...                                                   ...   \n",
            "224685  how to clean the yuck from your washer.\\r\\nthi...   \n",
            "116592  i got this off the back of a box of wolff's me...   \n",
            "204558  i love icecream soda's and this one is practic...   \n",
            "202992  i found this recipe in a magazine in a doctor'...   \n",
            "111737  you can also buy these peas canned but they ar...   \n",
            "\n",
            "                                              ingredients  n_ingredients  \\\n",
            "209453  ['cornmeal', 'natural bran', 'sugar', 'yeast',...              5   \n",
            "70467   ['boneless rib-eye roast', 'peanut oil', 'grou...              6   \n",
            "165504  ['dry milk', 'nestles quik', 'powdered sugar',...              4   \n",
            "137181  ['yellow cake mix', 'butter', 'water', 'eggs',...              6   \n",
            "34023   ['raisins', 'currants', 'figs', 'sweet almonds...             17   \n",
            "...                                                   ...            ...   \n",
            "224685                            ['tap water', 'bleach']              2   \n",
            "116592  ['dried kasha', 'salt', 'water', 'artificial s...              4   \n",
            "204558  ['vanilla frozen yogurt', 'sugar-free peanut b...              4   \n",
            "202992  ['lavash bread', 'olive oil flavored cooking s...              5   \n",
            "111737  ['marrowfat peas', 'baking soda', 'boiling wat...              7   \n",
            "\n",
            "        calories  total_fat     sugar  sodium  protein  saturate_fat    carbs  \n",
            "209453  434360.2     1293.0  362729.0  1324.0   3961.0         590.0  36098.0  \n",
            "70467   101614.7    17183.0       0.0   230.0   1271.0       10395.0      1.0  \n",
            "165504   45609.0     3379.0   16901.0  1478.0   4356.0        6875.0   1453.0  \n",
            "137181   44239.8     2036.0   17306.0  2705.0    936.0        1441.0   2565.0  \n",
            "34023    43924.6     2556.0   18943.0   841.0   1103.0        4941.0   2233.0  \n",
            "...          ...        ...       ...     ...      ...           ...      ...  \n",
            "224685       0.0        0.0       0.0     4.0      0.0           0.0      0.0  \n",
            "116592       0.0        0.0       0.0     6.0      0.0           0.0      0.0  \n",
            "204558       0.0        0.0       0.0     1.0      0.0           0.0      0.0  \n",
            "202992       0.0        0.0       0.0    48.0      0.0           0.0      0.0  \n",
            "111737       0.0        0.0       0.0     6.0      0.0           0.0      0.0  \n",
            "\n",
            "[231635 rows x 19 columns]\n"
          ]
        }
      ],
      "source": [
        "#This section was used to find the indices of the outliars\n",
        "#sorted_dfc = dfc.sort_values(by='minutes', ascending=False)\n",
        "sorted_dfc = dfc.sort_values(by='calories', ascending=False)\n",
        "print(sorted_dfc)"
      ]
    },
    {
      "cell_type": "markdown",
      "metadata": {
        "id": "Vt5w4sNiBLkz"
      },
      "source": []
    },
    {
      "cell_type": "code",
      "execution_count": null,
      "metadata": {
        "colab": {
          "base_uri": "https://localhost:8080/"
        },
        "id": "05KNzUtb_ujS",
        "outputId": "d8e7eb30-bf1c-4168-ac36-78d9260d752a"
      },
      "outputs": [
        {
          "name": "stdout",
          "output_type": "stream",
          "text": [
            "2147483647\n",
            "1051200\n"
          ]
        }
      ],
      "source": [
        "entry = dfc.loc[144074, 'minutes']\n",
        "print(entry)\n",
        "entry2 = dfc.loc[109624, 'minutes']\n",
        "print(entry2)"
      ]
    },
    {
      "cell_type": "code",
      "execution_count": null,
      "metadata": {
        "id": "Hese15OoAcpE"
      },
      "outputs": [],
      "source": [
        "#Dropping rows with Minutes Outliars\n",
        "\"\"\"dropped_indices = [144074, 109624]\n",
        "dfc.drop(index=dropped_indices, inplace=True)\n",
        "\n",
        "dropped_indices = [209453, 70467]\n",
        "dfc.drop(index=dropped_indices, inplace=True)\"\"\""
      ]
    },
    {
      "cell_type": "code",
      "execution_count": null,
      "metadata": {
        "colab": {
          "base_uri": "https://localhost:8080/",
          "height": 466
        },
        "id": "MLfkXyLey-4P",
        "outputId": "53f4f594-3e89-4846-e150-5f914f18b576"
      },
      "outputs": [
        {
          "data": {
            "text/plain": [
              "<Axes: xlabel='minutes', ylabel='calories'>"
            ]
          },
          "execution_count": 53,
          "metadata": {},
          "output_type": "execute_result"
        },
        {
          "data": {
            "image/png": "[encoded data removed]",
            "text/plain": [
              "<Figure size 640x480 with 1 Axes>"
            ]
          },
          "metadata": {},
          "output_type": "display_data"
        }
      ],
      "source": [
        "#Scatterplot for Minutes vs Calories\n",
        "sns.scatterplot(data=dfc, x='minutes', y='calories')"
      ]
    }
  ],
  "metadata": {
    "colab": {
      "provenance": []
    },
    "kernelspec": {
      "display_name": "Python 3",
      "name": "python3"
    },
    "language_info": {
      "codemirror_mode": {
        "name": "ipython",
        "version": 3
      },
      "file_extension": ".py",
      "mimetype": "text/x-python",
      "name": "python",
      "nbconvert_exporter": "python",
      "pygments_lexer": "ipython3",
      "version": "3.10.11"
    }
  },
  "nbformat": 4,
  "nbformat_minor": 0
}
