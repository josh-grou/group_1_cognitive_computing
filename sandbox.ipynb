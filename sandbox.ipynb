{
 "cells": [
  {
   "cell_type": "code",
   "execution_count": 1,
   "metadata": {},
   "outputs": [
    {
     "name": "stderr",
     "output_type": "stream",
     "text": [
      "c:\\Users\\joshg\\anaconda3\\envs\\Applied_ML_Final\\lib\\site-packages\\tqdm\\auto.py:22: TqdmWarning: IProgress not found. Please update jupyter and ipywidgets. See https://ipywidgets.readthedocs.io/en/stable/user_install.html\n",
      "  from .autonotebook import tqdm as notebook_tqdm\n",
      "Special tokens have been added in the vocabulary, make sure the associated word embeddings are fine-tuned or trained.\n",
      "Loading checkpoint shards: 100%|██████████| 2/2 [00:31<00:00, 15.88s/it]\n",
      "Setting `pad_token_id` to `eos_token_id`:2 for open-end generation.\n"
     ]
    },
    {
     "name": "stdout",
     "output_type": "stream",
     "text": [
      " The main challenges to support a long context LLM include:\n",
      "\n",
      "1. Data availability: A long context LLM requires a large amount of data to train on, which can be difficult and expensive to collect and annotate.\n",
      "\n",
      "2. Computational resources: Training a long context LLM requires a significant amount of computational resources, including powerful hardware and software, which can be costly and time-consuming to set up and maintain.\n",
      "\n",
      "3. Model complexity: A long context LLM is likely to be a complex model, which can be difficult to train and optimize.\n",
      "\n",
      "4. Evaluation: Evaluating the performance of a long context LLM can be challenging, as it may not be clear what metrics to use or how to interpret the results.\n",
      "\n",
      "5. Human evaluation: A long context LLM may require human evaluation to assess its performance, which can be time-consuming and subjective.\n",
      "\n",
      "6. Ethical considerations: A long context LLM may raise ethical concerns, such as bias and fairness in the data used to train the model, and the potential impact of the model on society.\n"
     ]
    }
   ],
   "source": [
    "from transformers import AutoModelForCausalLM, AutoTokenizer\n",
    "import transformers\n",
    "import torch\n",
    "\n",
    "model_id = \"amazon/MistralLite\"\n",
    "\n",
    "tokenizer = AutoTokenizer.from_pretrained(model_id)\n",
    "model = AutoModelForCausalLM.from_pretrained(model_id,\n",
    "                                             torch_dtype=torch.bfloat16,\n",
    "                                             device_map=\"auto\",)\n",
    "pipeline = transformers.pipeline(\n",
    "    \"text-generation\",\n",
    "    model=model,\n",
    "    tokenizer=tokenizer,\n",
    ")\n",
    "prompt = \"<|prompter|>What are the main challenges to support a long context for LLM?</s><|assistant|>\"\n",
    "\n",
    "sequences = pipeline(\n",
    "    prompt,\n",
    "    max_new_tokens=400,\n",
    "    do_sample=False,\n",
    "    return_full_text=False,\n",
    "    num_return_sequences=1,\n",
    "    eos_token_id=tokenizer.eos_token_id,\n",
    ")\n",
    "for seq in sequences:\n",
    "    print(f\"{seq['generated_text']}\")"
   ]
  },
  {
   "cell_type": "code",
   "execution_count": 2,
   "metadata": {},
   "outputs": [
    {
     "data": {
      "text/plain": [
       "{'model.embed_tokens': 0,\n",
       " 'model.layers.0': 0,\n",
       " 'model.layers.1': 0,\n",
       " 'model.layers.2': 0,\n",
       " 'model.layers.3': 0,\n",
       " 'model.layers.4': 0,\n",
       " 'model.layers.5': 0,\n",
       " 'model.layers.6': 0,\n",
       " 'model.layers.7': 0,\n",
       " 'model.layers.8': 0,\n",
       " 'model.layers.9': 0,\n",
       " 'model.layers.10': 0,\n",
       " 'model.layers.11': 0,\n",
       " 'model.layers.12': 0,\n",
       " 'model.layers.13': 0,\n",
       " 'model.layers.14': 0,\n",
       " 'model.layers.15': 0,\n",
       " 'model.layers.16': 0,\n",
       " 'model.layers.17': 'cpu',\n",
       " 'model.layers.18': 'cpu',\n",
       " 'model.layers.19': 'cpu',\n",
       " 'model.layers.20': 'cpu',\n",
       " 'model.layers.21': 'cpu',\n",
       " 'model.layers.22': 'cpu',\n",
       " 'model.layers.23': 'cpu',\n",
       " 'model.layers.24': 'cpu',\n",
       " 'model.layers.25': 'cpu',\n",
       " 'model.layers.26': 'cpu',\n",
       " 'model.layers.27': 'cpu',\n",
       " 'model.layers.28': 'cpu',\n",
       " 'model.layers.29': 'cpu',\n",
       " 'model.layers.30': 'cpu',\n",
       " 'model.layers.31': 'cpu',\n",
       " 'model.norm': 'cpu',\n",
       " 'lm_head': 'cpu'}"
      ]
     },
     "execution_count": 2,
     "metadata": {},
     "output_type": "execute_result"
    }
   ],
   "source": [
    "model.hf_device_map"
   ]
  }
 ],
 "metadata": {
  "kernelspec": {
   "display_name": "Applied_ML_Final",
   "language": "python",
   "name": "python3"
  },
  "language_info": {
   "codemirror_mode": {
    "name": "ipython",
    "version": 3
   },
   "file_extension": ".py",
   "mimetype": "text/x-python",
   "name": "python",
   "nbconvert_exporter": "python",
   "pygments_lexer": "ipython3",
   "version": "3.10.6"
  }
 },
 "nbformat": 4,
 "nbformat_minor": 2
}
